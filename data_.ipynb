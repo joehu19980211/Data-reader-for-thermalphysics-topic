{
 "cells": [
  {
   "cell_type": "code",
   "execution_count": 1,
   "metadata": {},
   "outputs": [],
   "source": [
    "import numpy as np\n",
    "import matplotlib.pyplot as plt\n",
    "from glob import glob"
   ]
  },
  {
   "cell_type": "markdown",
   "metadata": {},
   "source": [
    "# 讀取檔案\n",
    "以dictionary儲存data，地名為呼叫data的keyword:\n",
    "## dict:\n",
    "### 'tokyo':\n",
    "#### [data1],[data2],......\n",
    "\n",
    "### 'kyoto':\n",
    "#### [data1],[data2],......\n",
    "### ......"
   ]
  },
  {
   "cell_type": "code",
   "execution_count": 5,
   "metadata": {},
   "outputs": [],
   "source": [
    "def DataReader(files_dir):\n",
    "    # Set up dictionary of data with keyword of city name\n",
    "    up_files = glob( files_dir + '*' )\n",
    "    data_dict = {}\n",
    "    key_list = []\n",
    "    for i in up_files:\n",
    "        key = i.split('\\\\')[-1]\n",
    "        key_list.append(key)\n",
    "        data_dict[ key ] = []\n",
    "    \n",
    "    # Store data of each city in data_dict\n",
    "    files = glob( files_dir + '*/*.txt' )\n",
    "    N = len( files )\n",
    "    for i in range(N):\n",
    "        with open( files[i] ) as data:\n",
    "            kw = files[i].split('\\\\')[-2]\n",
    "            for lines in data:\n",
    "                time,T = lines.split('\\t')[:2]\n",
    "                date,h = time.split(' ')\n",
    "                y,m,d = date.split('/')\n",
    "                data_dict[ kw ].append([ int(y[2:]), int(m), int(d), int(h[:2]), float(T) ])\n",
    "    # Convert to array\n",
    "    for i in key_list:\n",
    "        data_dict[i] = np.array(data_dict[i])\n",
    "    \n",
    "    return data_dict"
   ]
  },
  {
   "cell_type": "code",
   "execution_count": 6,
   "metadata": {},
   "outputs": [
    {
     "name": "stdout",
     "output_type": "stream",
     "text": [
      "[[ 9.  10.   1.   1.  18.3]\n",
      " [ 9.  10.   1.   2.  18.7]\n",
      " [ 9.  10.   1.   3.  18.6]\n",
      " ...\n",
      " [18.   5.  30.  22.  18. ]\n",
      " [18.   5.  30.  23.  17.9]\n",
      " [18.   5.  31.   0.  17.7]]\n"
     ]
    }
   ],
   "source": [
    "files_dir = 'C:/Users/user/Desktop/thermal_physics_topic/data/'\n",
    "X = DataReader(files_dir)\n",
    "print(X['tokyo'])"
   ]
  },
  {
   "cell_type": "code",
   "execution_count": null,
   "metadata": {},
   "outputs": [],
   "source": []
  }
 ],
 "metadata": {
  "kernelspec": {
   "display_name": "Python 3",
   "language": "python",
   "name": "python3"
  },
  "language_info": {
   "codemirror_mode": {
    "name": "ipython",
    "version": 3
   },
   "file_extension": ".py",
   "mimetype": "text/x-python",
   "name": "python",
   "nbconvert_exporter": "python",
   "pygments_lexer": "ipython3",
   "version": "3.7.2"
  }
 },
 "nbformat": 4,
 "nbformat_minor": 2
}
